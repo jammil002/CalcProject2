{
 "cells": [
  {
   "cell_type": "markdown",
   "id": "d17e144a-2683-4895-9196-bf3d15a3c918",
   "metadata": {},
   "source": [
    "<h1> Calculus Project 2 </h1>\n",
    "\n",
    "James Miller\n",
    "20630524\n",
    "\n",
    "## Part One"
   ]
  },
  {
   "cell_type": "markdown",
   "id": "d3bf81ec-4ee2-4a23-aac9-c3ac7a9ed9df",
   "metadata": {},
   "source": [
    "**1A)**"
   ]
  },
  {
   "cell_type": "code",
   "execution_count": 10,
   "id": "5bc78ed2-7fe0-481f-8407-f772b7320ccc",
   "metadata": {
    "tags": []
   },
   "outputs": [],
   "source": [
    "import sympy as sp\n",
    "import numpy as np\n",
    "from scipy.optimize import fsolve\n",
    "import matplotlib.pyplot as plt\n",
    "from sympy.plotting import plot\n",
    "from sympy.interactive import printing\n",
    "printing.init_printing(use_latex = True)\n",
    "\n",
    "a = 4\n",
    "b = 2\n",
    "c = 5\n",
    "d = a + b + c\n",
    "x, y = sp.symbols('x, y')"
   ]
  },
  {
   "cell_type": "markdown",
   "id": "319acd55-6897-4661-a32b-09ee50ccf6e1",
   "metadata": {},
   "source": [
    "**1B)**"
   ]
  },
  {
   "cell_type": "code",
   "execution_count": 11,
   "id": "05f38926-e465-4b07-814f-d0aad3c8c53a",
   "metadata": {
    "tags": []
   },
   "outputs": [],
   "source": [
    "p1bLeft = sp.limit((a + 1) * x * sp.exp(-x) * sp.sin((b + 1) / x), x, sp.oo, dir=\"left\")\n",
    "p1bRight = sp.limit((a + 1) * x * sp.exp(-x) * sp.sin((b + 1) / x), x, sp.oo, dir=\"right\")\n",
    "p1bTwo = sp.limit((a + 1) * x * sp.exp(-x) * sp.sin((b + 1) / x), x, 0)"
   ]
  },
  {
   "cell_type": "markdown",
   "id": "93083cfe-57ec-4b0f-bea3-b904bfc2731a",
   "metadata": {},
   "source": [
    "**Y1 and Limits:**"
   ]
  },
  {
   "cell_type": "code",
   "execution_count": 12,
   "id": "53c21ec4-89d8-41b4-b9ba-91598676b7f0",
   "metadata": {
    "tags": []
   },
   "outputs": [
    {
     "data": {
      "image/png": "[encoded data removed]",
      "text/latex": [
       "$\\displaystyle 5 x e^{- x} \\sin{\\left(\\frac{3}{x} \\right)}$"
      ],
      "text/plain": [
       "     -x    ⎛3⎞\n",
       "5⋅x⋅ℯ  ⋅sin⎜─⎟\n",
       "           ⎝x⎠"
      ]
     },
     "metadata": {},
     "output_type": "display_data"
    },
    {
     "name": "stdout",
     "output_type": "stream",
     "text": [
      "p1bLeft: 0, p1bRight: 0, p1bTwo 0\n"
     ]
    }
   ],
   "source": [
    "display((a + 1) * x * sp.exp(-x) * sp.sin((b + 1) / x))\n",
    "print(f\"p1bLeft: {p1bLeft}, p1bRight: {p1bRight}, p1bTwo {p1bTwo}\")"
   ]
  },
  {
   "cell_type": "markdown",
   "id": "b8af9731-1e68-45fd-8222-fec359561a99",
   "metadata": {},
   "source": [
    "**Derivative One:**"
   ]
  },
  {
   "cell_type": "code",
   "execution_count": 13,
   "id": "89d5ab93-a9c8-43b0-9236-0b956b776251",
   "metadata": {},
   "outputs": [
    {
     "data": {
      "image/png": "[encoded data removed]",
      "text/latex": [
       "$\\displaystyle - 5 x e^{- x} \\sin{\\left(\\frac{3}{x} \\right)} + 5 e^{- x} \\sin{\\left(\\frac{3}{x} \\right)} - \\frac{15 e^{- x} \\cos{\\left(\\frac{3}{x} \\right)}}{x}$"
      ],
      "text/plain": [
       "                                      -x    ⎛3⎞\n",
       "                                  15⋅ℯ  ⋅cos⎜─⎟\n",
       "       -x    ⎛3⎞      -x    ⎛3⎞             ⎝x⎠\n",
       "- 5⋅x⋅ℯ  ⋅sin⎜─⎟ + 5⋅ℯ  ⋅sin⎜─⎟ - ─────────────\n",
       "             ⎝x⎠            ⎝x⎠         x      "
      ]
     },
     "metadata": {},
     "output_type": "display_data"
    }
   ],
   "source": [
    "p1bDYDX = sp.diff((a + 1) * x * sp.exp(-x) * sp.sin((b + 1) / x))\n",
    "display(p1bDYDX)"
   ]
  },
  {
   "cell_type": "markdown",
   "id": "96d918ce-e2b7-4b41-855c-4727837a0cdc",
   "metadata": {
    "tags": []
   },
   "source": [
    "**Derivative Two:**"
   ]
  },
  {
   "cell_type": "code",
   "execution_count": 14,
   "id": "50a3a07c-af2a-48aa-912a-cee824d6aa8c",
   "metadata": {
    "tags": []
   },
   "outputs": [
    {
     "data": {
      "image/png": "[encoded data removed]",
      "text/latex": [
       "$\\displaystyle 5 x e^{- x} \\sin{\\left(\\frac{3}{x} \\right)} - 10 e^{- x} \\sin{\\left(\\frac{3}{x} \\right)} + \\frac{30 e^{- x} \\cos{\\left(\\frac{3}{x} \\right)}}{x} - \\frac{45 e^{- x} \\sin{\\left(\\frac{3}{x} \\right)}}{x^{3}}$"
      ],
      "text/plain": [
       "                                     -x    ⎛3⎞       -x    ⎛3⎞\n",
       "                                 30⋅ℯ  ⋅cos⎜─⎟   45⋅ℯ  ⋅sin⎜─⎟\n",
       "     -x    ⎛3⎞       -x    ⎛3⎞             ⎝x⎠             ⎝x⎠\n",
       "5⋅x⋅ℯ  ⋅sin⎜─⎟ - 10⋅ℯ  ⋅sin⎜─⎟ + ───────────── - ─────────────\n",
       "           ⎝x⎠             ⎝x⎠         x                3     \n",
       "                                                       x      "
      ]
     },
     "metadata": {},
     "output_type": "display_data"
    }
   ],
   "source": [
    "p1bDYYDXX = sp.diff(p1bDYDX)\n",
    "display(p1bDYYDXX)"
   ]
  },
  {
   "cell_type": "markdown",
   "id": "53fc454d-f8f8-42e9-af03-5b39a67af746",
   "metadata": {},
   "source": [
    "**1C)**"
   ]
  },
  {
   "cell_type": "code",
   "execution_count": 15,
   "id": "62a6727a-d6a0-46de-96cb-b8b61d09a088",
   "metadata": {},
   "outputs": [
    {
     "data": {
      "image/png": "[encoded data removed]",
      "text/plain": [
       "<Figure size 432x288 with 1 Axes>"
      ]
     },
     "metadata": {
      "needs_background": "light"
     },
     "output_type": "display_data"
    }
   ],
   "source": [
    "plot1 = sp.plot(p1bDYDX,(x,(c + 1)/10,(d + 25)/5), ylim=(-20,20),title=\"1C Graph\", show=False)\n",
    "plot1.extend(sp.plot(p1bDYYDXX, (x,(c + 1)/10,(d + 25)/5), ylim=(-20,20),line_color='red',show=False, xlabel=\"x\",ylabel=\"y\", title=\"1C Graph\"))\n",
    "plot1.show()"
   ]
  },
  {
   "cell_type": "markdown",
   "id": "8a352e1c-bf07-4723-8995-f7b78f9ff542",
   "metadata": {},
   "source": [
    "**1D)**"
   ]
  },
  {
   "cell_type": "code",
   "execution_count": 16,
   "id": "d80ecc01-e81c-40d7-bb74-37ced9ccd577",
   "metadata": {},
   "outputs": [
    {
     "data": {
      "image/png": "[encoded data removed]",
      "text/plain": [
       "<Figure size 432x288 with 1 Axes>"
      ]
     },
     "metadata": {
      "needs_background": "light"
     },
     "output_type": "display_data"
    }
   ],
   "source": [
    "plot2 = sp.plot((c+1)*x*(sp.cos(x/(d+1))**-1), xlim=(-(d+1),(d+1)),xlabel=\"x\",ylabel=\"y\", title=\"1D Graph\")"
   ]
  },
  {
   "cell_type": "code",
   "execution_count": 42,
   "id": "1024f482-b9b3-44b3-aa53-0a5df5c7921e",
   "metadata": {},
   "outputs": [
    {
     "data": {
      "image/png": "[encoded data removed]",
      "text/latex": [
       "$\\displaystyle \\frac{6 x}{\\cos{\\left(\\frac{x}{12} \\right)}}$"
      ],
      "text/plain": [
       "  6⋅x  \n",
       "───────\n",
       "   ⎛x ⎞\n",
       "cos⎜──⎟\n",
       "   ⎝12⎠"
      ]
     },
     "metadata": {},
     "output_type": "display_data"
    },
    {
     "name": "stdout",
     "output_type": "stream",
     "text": [
      "Critical points are :\n"
     ]
    }
   ],
   "source": [
    "y2 = (c+1)*x*(sp.cos(x/(d+1))**-1)\n",
    "display(y2)\n",
    "y2Diff = sp.derive_by_array(y2, (x, y))\n",
    "y2Lamdify = sp.lambdify((x, y), y2Diff)\n",
    "P1D={}\n",
    "for i in range(-(d+1),(d+1)):\n",
    "    y2solve=fsolve(lambda v: y2Lamdify(v[0], v[1]), (i, i))\n",
    "if z[0] not in P1D:\n",
    "    dicti[z[0]]=z[1]\n",
    "\n",
    "print(\"Critical points are: \")\n",
    "for result in P1D:\n",
    "    print(\"[\"+str(result)+\", \"+str(P1D[result])+\"]\")"
   ]
  },
  {
   "cell_type": "code",
   "execution_count": null,
   "id": "19089b86-27c3-4fab-ba61-f0d3d9b83b9f",
   "metadata": {},
   "outputs": [],
   "source": []
  }
 ],
 "metadata": {
  "kernelspec": {
   "display_name": "Python 3 (ipykernel)",
   "language": "python",
   "name": "python3"
  },
  "language_info": {
   "codemirror_mode": {
    "name": "ipython",
    "version": 3
   },
   "file_extension": ".py",
   "mimetype": "text/x-python",
   "name": "python",
   "nbconvert_exporter": "python",
   "pygments_lexer": "ipython3",
   "version": "3.9.7"
  }
 },
 "nbformat": 4,
 "nbformat_minor": 5
}
